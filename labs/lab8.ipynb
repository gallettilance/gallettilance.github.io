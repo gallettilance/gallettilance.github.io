{
 "cells": [
  {
   "cell_type": "markdown",
   "metadata": {},
   "source": [
    "#  Lab 8: Multiclass Logistic Regression\n",
    "\n",
    "## Objective\n",
    "In this lab, you will:\n",
    "\n",
    "1. Generate a three-class dataset with three distinct cluster.\n",
    "2. Train two logistic regression models:\n",
    "    * One-vs-Rest (OvR) logistic regression.\n",
    "    * Softmax (Multinomial) logistic regression.\n",
    "3. Evaluate both models using classification scores and cross entropy loss.\n",
    "4. Visualize decision boundaries and decision hyperplanes for each class.\n",
    "5. Compare and analyze the performance and decision boundaries of both approaches. \n"
   ]
  },
  {
   "cell_type": "markdown",
   "metadata": {},
   "source": [
    "## Step 1: Generate a Three-Class Dataset\n",
    "We’ll start by generating a three-class dataset with three distinct cluster."
   ]
  },
  {
   "cell_type": "code",
   "execution_count": null,
   "metadata": {},
   "outputs": [],
   "source": [
    "import numpy as np\n",
    "import matplotlib.pyplot as plt\n",
    "from sklearn.datasets import make_blobs\n",
    "from sklearn.model_selection import train_test_split\n",
    "\n",
    "# Define centers for three clusters\n",
    "centers = [[-3, -2], [1, 3], [1, -1]]\n",
    "X, y = make_blobs(n_samples=1000, centers=centers, random_state=42)\n",
    "\n",
    "# Apply the transformation to the entire dataset\n",
    "transformation = [[0.4, 0.2], [0.2, 1.8]]\n",
    "X_transformed = np.dot(X, transformation)\n",
    "\n",
    "# Visualize the transformed dataset\n",
    "plt.scatter(X_transformed[:, 0], X_transformed[:, 1], c=y, cmap=plt.cm.coolwarm, edgecolor='k', s=50)\n",
    "plt.xlabel(\"Transformed Feature 1\")\n",
    "plt.ylabel(\"Transformed Feature 2\")\n",
    "plt.title(\"Three-Class Dataset with Different Transformations\")\n",
    "plt.show()\n",
    "\n",
    "# Split dataset into training and test sets\n",
    "X_train, X_test, y_train, y_test = train_test_split(X_transformed, y, test_size=0.3, random_state=42)\n"
   ]
  },
  {
   "cell_type": "markdown",
   "metadata": {},
   "source": [
    "## Step 2: Train Logistic Regression Models with OvR and Softmax\n",
    "We’ll train one logistic regression model with the OvR (one-vs-rest) approach and another with the Softmax (multinomial) approach."
   ]
  },
  {
   "cell_type": "code",
   "execution_count": null,
   "metadata": {},
   "outputs": [],
   "source": [
    "from sklearn.linear_model import LogisticRegression\n",
    "\n",
    "# TODO: Train One-vs-Rest Logistic Regression\n",
    "ovr_model = ...\n",
    "\n",
    "# TODO: Train Softmax (Multinomial) Logistic Regression\n",
    "softmax_model = ...\n"
   ]
  },
  {
   "cell_type": "markdown",
   "metadata": {},
   "source": [
    "## Step 3: Evaluate and Compare Performance\n",
    "\n",
    "Evaluate the models using:\n",
    "* Classification Scores: Accuracy, precision, recall, and F1-score.\n",
    "* Cross-Entropy Loss"
   ]
  },
  {
   "cell_type": "code",
   "execution_count": null,
   "metadata": {},
   "outputs": [],
   "source": [
    "#  TODO: Classification scores for both models"
   ]
  },
  {
   "cell_type": "code",
   "execution_count": null,
   "metadata": {},
   "outputs": [],
   "source": [
    "# TODO: cross entropy loss for both models"
   ]
  },
  {
   "cell_type": "markdown",
   "metadata": {},
   "source": [
    "## Step 4: Visualize Decision Boundaries and Hyperplanes\n",
    "We’ll visualize the decision boundaries and hyperplanes for each model. "
   ]
  },
  {
   "cell_type": "code",
   "execution_count": null,
   "metadata": {},
   "outputs": [],
   "source": [
    "def plot_decision_boundary(model, X, y, model_name):\n",
    "    # Set up a grid to plot decision boundaries\n",
    "    x_min, x_max = X[:, 0].min() - 1, X[:, 0].max() + 1\n",
    "    y_min, y_max = X[:, 1].min() - 1, X[:, 1].max() + 1\n",
    "    xx, yy = np.meshgrid(np.linspace(x_min, x_max, 200), np.linspace(y_min, y_max, 200))\n",
    "\n",
    "    # TODO:\n",
    "    Z = ...\n",
    "    \n",
    "    plt.contourf(xx, yy, Z, alpha=0.3, cmap=plt.cm.coolwarm)\n",
    "    plt.scatter(X[:, 0], X[:, 1], c=y, edgecolor='k', cmap=plt.cm.coolwarm, s=50)\n",
    "    plt.xlabel(\"Feature 1\")\n",
    "    plt.ylabel(\"Feature 2\")\n",
    "    plt.title(f\"Decision Boundary for {model_name}\")\n",
    "    plt.show()\n",
    "\n",
    "# Plot decision boundaries for OvR and Softmax models\n",
    "plot_decision_boundary(ovr_model, X_transformed, y, \"One-vs-Rest (OvR)\")\n",
    "plot_decision_boundary(softmax_model, X_transformed, y, \"Softmax (Multinomial)\")\n"
   ]
  },
  {
   "cell_type": "code",
   "execution_count": null,
   "metadata": {},
   "outputs": [],
   "source": [
    "def plot_decision_hyperplanes(model, X, y, model_name):\n",
    "    x_min, x_max = X[:, 0].min() - 1, X[:, 0].max() + 1\n",
    "    y_min, y_max = X[:, 1].min() - 1, X[:, 1].max() + 1\n",
    "    xx = np.linspace(x_min, x_max, 200)\n",
    "\n",
    "    # TODO: Plot each class's decision hyperplane\n",
    "\n",
    "    # Scatter plot of data points\n",
    "    plt.scatter(X[:, 0], X[:, 1], c=y, edgecolor='k', cmap=plt.cm.coolwarm, s=50)\n",
    "    plt.xlim(x_min, x_max)\n",
    "    plt.ylim(y_min, y_max)\n",
    "    plt.xlabel(\"Feature 1\")\n",
    "    plt.ylabel(\"Feature 2\")\n",
    "    plt.title(f\"Decision Hyperplanes for {model_name}\")\n",
    "    plt.legend()\n",
    "    plt.show()\n",
    "\n",
    "# Plot decision hyperplanes for both models\n",
    "plot_decision_hyperplanes(ovr_model, X_transformed, y, \"One-vs-Rest (OvR)\")\n",
    "plot_decision_hyperplanes(softmax_model, X_transformed, y, \"Softmax (Multinomial)\")\n"
   ]
  },
  {
   "cell_type": "markdown",
   "metadata": {},
   "source": [
    "## Step 5: Compare and Analyze the Results\n",
    "Answer the following questions:\n",
    "* Which model has better performance overall? Why do you think this is the case?\n",
    "* Which model has a lower cross entropy loss, and what does this tell you about the models' probabilistic outputs?\n",
    "* What differences do you observe between the OvR and Softmax approaches in the way decision boundaries and hyperplanes are constructed and positioned? Can you explain why these differences occur based on how each model optimizes for multi-class classification?\n",
    "\n"
   ]
  }
 ],
 "metadata": {
  "kernelspec": {
   "display_name": "cs506",
   "language": "python",
   "name": "python3"
  },
  "language_info": {
   "codemirror_mode": {
    "name": "ipython",
    "version": 3
   },
   "file_extension": ".py",
   "mimetype": "text/x-python",
   "name": "python",
   "nbconvert_exporter": "python",
   "pygments_lexer": "ipython3",
   "version": "3.10.15"
  }
 },
 "nbformat": 4,
 "nbformat_minor": 2
}
