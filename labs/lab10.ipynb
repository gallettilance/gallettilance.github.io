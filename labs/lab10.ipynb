{
 "cells": [
  {
   "cell_type": "markdown",
   "metadata": {
    "id": "2Cdh-5D3d0ZD"
   },
   "source": [
    "## **Imports**"
   ]
  },
  {
   "cell_type": "code",
   "execution_count": 1,
   "metadata": {
    "id": "FJwCtnIwd0Il"
   },
   "outputs": [],
   "source": [
    "import os\n",
    "import numpy as np\n",
    "import matplotlib.pyplot as plt\n",
    "from sklearn.decomposition import PCA\n",
    "from sklearn.metrics.pairwise import euclidean_distances\n",
    "from PIL import Image"
   ]
  },
  {
   "cell_type": "markdown",
   "metadata": {
    "id": "2ajOBM7Ud6Gw"
   },
   "source": [
    "## **Step 1 - Load dataset (Resize all images to a fixed size, convert to grayscale, and normalize pixels)**"
   ]
  },
  {
   "cell_type": "code",
   "execution_count": 2,
   "metadata": {
    "id": "KIHeC9i0d5yj"
   },
   "outputs": [],
   "source": [
    "# Already completed for you\n",
    "def load_images(image_dir, max_images=None, target_size=(224, 224)):\n",
    "    images = []\n",
    "    image_names = []\n",
    "    for i, filename in enumerate(os.listdir(image_dir)):\n",
    "        if filename.endswith('.jpg'):\n",
    "            img = Image.open(os.path.join(image_dir, filename))\n",
    "            img = img.convert('L')  # Convert to grayscale ('L' mode)\n",
    "            img = img.resize(target_size)  # Resize to target size\n",
    "            img_array = np.asarray(img, dtype=np.float32) / 255.0  # Normalize pixel values to [0, 1]\n",
    "            images.append(img_array.flatten())  # Flatten to 1D\n",
    "            image_names.append(filename)\n",
    "        if max_images and i + 1 >= max_images:\n",
    "            break\n",
    "    return np.array(images), image_names"
   ]
  },
  {
   "cell_type": "markdown",
   "metadata": {},
   "source": [
    "### Extract the dataset's zip file and put the extracted folder's path below"
   ]
  },
  {
   "cell_type": "code",
   "execution_count": 3,
   "metadata": {
    "id": "LSQpQuRsduMH"
   },
   "outputs": [],
   "source": [
    "# Directory containing images\n",
    "image_dir = \"coco_images_resized\" # Your folder path"
   ]
  },
  {
   "cell_type": "markdown",
   "metadata": {
    "id": "oNjUDWopeRD3"
   },
   "source": [
    "## **Step 2: Train PCA on the first 2,000 images**\n",
    "\n",
    "####  Complete the TODO sections below"
   ]
  },
  {
   "cell_type": "code",
   "execution_count": null,
   "metadata": {
    "id": "FaV7H-2weQBq"
   },
   "outputs": [],
   "source": [
    "train_images, train_image_names = load_images(image_dir, max_images=2000, target_size=(224, 224))\n",
    "print(f\"Loaded {len(train_images)} images for PCA training.\")\n",
    "\n",
    "# Apply PCA\n",
    "k = #TODO  # Number of principal components (eg: 50)\n",
    "pca = #TODO initialize PCA with no. of components\n",
    "#TODO  # Fit PCA on the training subset\n",
    "print(f\"Trained PCA on {len(train_images)} samples.\")"
   ]
  },
  {
   "cell_type": "markdown",
   "metadata": {
    "id": "GAUv9D2PeO6K"
   },
   "source": [
    "## **Step 3: Transform the first 10,000 images**\n",
    "#### Complete the TODO section below"
   ]
  },
  {
   "cell_type": "code",
   "execution_count": null,
   "metadata": {
    "id": "KnjqEKpVenTY"
   },
   "outputs": [],
   "source": [
    "transform_images, transform_image_names = load_images(image_dir, max_images=10000, target_size=(224, 224))\n",
    "print(f\"Loaded {len(transform_images)} images for transformation.\")\n",
    "reduced_embeddings = #TODO  # Transform only the first 10,000 images\n",
    "print(f\"Reduced embeddings for {len(transform_images)} images.\")"
   ]
  },
  {
   "cell_type": "markdown",
   "metadata": {
    "id": "_LgZ5pvne4N3"
   },
   "source": [
    "## **Step 4: Nearest Neighbor Search**\n",
    "#### Complete the TODO sections below"
   ]
  },
  {
   "cell_type": "code",
   "execution_count": null,
   "metadata": {
    "id": "Z-tNPc6se4gf"
   },
   "outputs": [],
   "source": [
    "def nearest_neighbors(query_embedding, embeddings, top_k=5):\n",
    "    # query_embedding: The embedding of the query item (e.g., the query image) in the same dimensional space as the other embeddings.\n",
    "    # embeddings: The dataset of embeddings that you want to search through for the nearest neighbors.\n",
    "    # top_k: The number of most similar items (nearest neighbors) to return from the dataset.\n",
    "    # Hint: flatten the \"distances\" array for convenience because its size would be (1,N)\n",
    "    distances = #TODO Use euclidean distance\n",
    "    nearest_indices = #TODO get the indices of ntop k results\n",
    "    return nearest_indices, distances[nearest_indices]"
   ]
  },
  {
   "cell_type": "markdown",
   "metadata": {
    "id": "9c5NXguzgWek"
   },
   "source": [
    "## **Step 5 - Visualize the results**\n",
    "#### Feel free to use any other image from the dataset by changing the query_idx variable"
   ]
  },
  {
   "cell_type": "code",
   "execution_count": null,
   "metadata": {
    "id": "OzvVfATUgWBH"
   },
   "outputs": [],
   "source": [
    "# Example Query\n",
    "query_idx = 0  # Index of the query image (you can change this)\n",
    "query_embedding = reduced_embeddings[query_idx]\n",
    "top_indices, top_distances = nearest_neighbors(query_embedding, reduced_embeddings)\n",
    "print(\"Top indices:\", top_indices)\n",
    "print(\"Top distances:\", top_distances)\n",
    "\n",
    "# Step 4: Visualize Results with Original Color Images\n",
    "# Already completed\n",
    "def visualize_results_in_color(query_idx, top_indices):\n",
    "    fig, axes = plt.subplots(1, len(top_indices) + 1, figsize=(15, 5))\n",
    "    # Show query image\n",
    "    query_image = Image.open(os.path.join(image_dir, transform_image_names[query_idx]))  # Load original image\n",
    "    axes[0].imshow(query_image)  # Show in colored format/original.\n",
    "    axes[0].set_title(\"Query Image\")\n",
    "    axes[0].axis(\"off\")\n",
    "    # Show top results\n",
    "    for i, idx in enumerate(top_indices):\n",
    "        result_image = Image.open(os.path.join(image_dir, transform_image_names[idx]))  # Load original image\n",
    "        axes[i + 1].imshow(result_image)  # Show in colored format/original\n",
    "        axes[i + 1].set_title(f\"Result {i+1}\")\n",
    "        axes[i + 1].axis(\"off\")\n",
    "    plt.show()\n",
    "\n",
    "visualize_results_in_color(query_idx, top_indices)"
   ]
  }
 ],
 "metadata": {
  "colab": {
   "provenance": []
  },
  "kernelspec": {
   "display_name": "Python 3",
   "name": "python3"
  },
  "language_info": {
   "codemirror_mode": {
    "name": "ipython",
    "version": 3
   },
   "file_extension": ".py",
   "mimetype": "text/x-python",
   "name": "python",
   "nbconvert_exporter": "python",
   "pygments_lexer": "ipython3",
   "version": "3.12.4"
  }
 },
 "nbformat": 4,
 "nbformat_minor": 0
}
